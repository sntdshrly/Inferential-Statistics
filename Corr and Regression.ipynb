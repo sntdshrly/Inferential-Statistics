{
  "nbformat": 4,
  "nbformat_minor": 0,
  "metadata": {
    "colab": {
      "name": "Corr and Regression.ipynb",
      "provenance": []
    },
    "kernelspec": {
      "name": "python3",
      "display_name": "Python 3"
    },
    "language_info": {
      "name": "python"
    }
  },
  "cells": [
    {
      "cell_type": "markdown",
      "source": [
        "Plotting x and y"
      ],
      "metadata": {
        "id": "L2QA-t6SNPCo"
      }
    },
    {
      "cell_type": "code",
      "source": [
        "import matplotlib.pyplot as plt\n",
        "import numpy as np\n",
        "import matplotlib.pyplot as plt \n",
        "import scipy.stats as stats\n",
        "import pandas as pd\n",
        "import math\n",
        "import statistics\n",
        "from sklearn.linear_model import LinearRegression"
      ],
      "metadata": {
        "id": "Ok6RfPG7NWxL"
      },
      "execution_count": null,
      "outputs": []
    },
    {
      "cell_type": "code",
      "execution_count": null,
      "metadata": {
        "colab": {
          "base_uri": "https://localhost:8080/",
          "height": 265
        },
        "id": "kd6s8Ass5_Xd",
        "outputId": "93e78d35-20f8-4f2e-cc76-381d4c5dc985"
      },
      "outputs": [
        {
          "output_type": "display_data",
          "data": {
            "text/plain": [
              "<Figure size 432x288 with 1 Axes>"
            ],
            "image/png": "[encoded data removed]"
          },
          "metadata": {
            "needs_background": "light"
          }
        }
      ],
      "source": [
        "x = [5,7,8,7,2,17,2,9,4,11,12,9,6]\n",
        "y = [99,86,87,88,111,86,103,87,94,78,77,85,86]\n",
        "plt.scatter(x, y)\n",
        "plt.show()"
      ]
    },
    {
      "cell_type": "markdown",
      "source": [
        "Pearson Correlation"
      ],
      "metadata": {
        "id": "9q7Au47TNTkD"
      }
    },
    {
      "cell_type": "code",
      "source": [
        "x = [96.9,73.1,83.1,86.5,64.1,118.8,71.3,122.7]\n",
        "y = [107.8,97.2,95.1,112.0,78.0,112.0,95.0,118.0]\n",
        "\n",
        "correlation, p_value = stats.pearsonr(x, y)\n",
        "print(\"r/correlation: \",correlation)\n",
        "print(\"p_val: \", p_value)\n",
        "\n",
        "# dg pake alfa lihat di tabel 11 A26 hal 688 picturing\n",
        "criticalVal = float(input(\"critical val: \"))\n",
        "print(f'corr: {abs(correlation)} and critical value:{criticalVal}')\n",
        "if abs(correlation) > criticalVal:\n",
        "  print(\"corr is significant\")\n",
        "else:\n",
        "  print(\"coor is NOT significant\")"
      ],
      "metadata": {
        "colab": {
          "base_uri": "https://localhost:8080/"
        },
        "id": "2_XT61Qt6AVW",
        "outputId": "33c0a0a7-1edb-4265-9615-0cab85e6b8cf"
      },
      "execution_count": null,
      "outputs": [
        {
          "output_type": "stream",
          "name": "stdout",
          "text": [
            "r/correlation:  0.8567170256532357\n",
            "p_val:  0.0065863716530480555\n",
            "critical val: 0.707\n",
            "corr: 0.8567170256532357 and critical value:0.707\n",
            "corr is significant\n"
          ]
        }
      ]
    },
    {
      "cell_type": "markdown",
      "source": [
        "![ONx2Y.png](data:image/png;base64,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)"
      ],
      "metadata": {
        "id": "d3I-zzcj8qK0"
      }
    },
    {
      "cell_type": "code",
      "source": [
        "def mean(someList):\n",
        "    total = 0\n",
        "    for a in someList:\n",
        "        total += float(a)\n",
        "    mean = total/len(someList)\n",
        "    return mean\n",
        "def standDev(someList):\n",
        "    listMean = mean(someList)\n",
        "    dev = 0.0\n",
        "    for i in range(len(someList)):\n",
        "        dev += (someList[i]-listMean)**2\n",
        "    dev = dev**(1/2.0)\n",
        "    return dev\n",
        "def correlCo(someList1, someList2):\n",
        "\n",
        "    # First establish the means and standard deviations for both lists.\n",
        "    xMean = mean(someList1)\n",
        "    yMean = mean(someList2)\n",
        "    xStandDev = standDev(someList1)\n",
        "    yStandDev = standDev(someList2)\n",
        "    # r numerator\n",
        "    rNum = 0.0\n",
        "    for i in range(len(someList1)):\n",
        "        rNum += (someList1[i]-xMean)*(someList2[i]-yMean)\n",
        "\n",
        "    # r denominator\n",
        "    rDen = xStandDev * yStandDev\n",
        "    r =  rNum/rDen\n",
        "    return r\n",
        "\n",
        "print(correlCo([5,7,8,7,2,17,2,9,4,11,12,9,6], [99,86,87,88,111,86,103,87,94,78,77,85,86]))"
      ],
      "metadata": {
        "colab": {
          "base_uri": "https://localhost:8080/"
        },
        "id": "Ahq2R6Lb8McI",
        "outputId": "87e2f068-498c-47c3-87a3-f8be2a16a862"
      },
      "execution_count": null,
      "outputs": [
        {
          "output_type": "stream",
          "name": "stdout",
          "text": [
            "-0.7585915243761551\n"
          ]
        }
      ]
    },
    {
      "cell_type": "markdown",
      "source": [
        "\n",
        "*   Left Tail\n",
        "\n",
        "H0 >= 0 (no signif -)\n",
        "\n",
        "Ha < 0 (signi -)\n",
        "\n",
        "*   Right Tail\n",
        "\n",
        "H0 <= 0 (no signif +)\n",
        "\n",
        "Ha > 0 (signi +)\n",
        "\n",
        "*   Two Tail Tail\n",
        "\n",
        "H0 = 0 (no signif)\n",
        "\n",
        "Ha != 0 (signi)"
      ],
      "metadata": {
        "id": "jAE1RUyxN5jf"
      }
    },
    {
      "cell_type": "markdown",
      "source": [
        "t-test (standardized test statistic)"
      ],
      "metadata": {
        "id": "kx8PnjKHOahs"
      }
    },
    {
      "cell_type": "code",
      "source": [
        "x = [1.8,1.3,2.4,1.5,3.9,2.1,0.9,1.4,3.0,4.6]\n",
        "y = [604.4,434.2,544.0,370.4,742.3,340.5,232.0,262.3,441.9,1157.7]\n",
        "\n",
        "state = str(input(\"state(boleh kosong): \"))\n",
        "alfa = float(input(\"alfa=\")) # Input lgsg kalo bukan two-tailed test\n",
        "n = len(x)\n",
        "print('n: ',n)\n",
        "df = n-2\n",
        "tail = str(input(\"left/right/two: \"))\n",
        "if tail == 'two':\n",
        "  tc_kiri = stats.t.ppf((alfa/2),df) # Daerah Penolakan / t-Score\n",
        "  tc_kanan = stats.t.ppf((1-(alfa/2)),df)\n",
        "  print(f\"Tc kiri={tc_kiri}\")\n",
        "  print(f\"Tc kanan={tc_kanan}\")\n",
        "elif tail =='left':\n",
        "  tc = stats.t.ppf(alfa,df)\n",
        "elif tail =='right':\n",
        "  tc = stats.t.ppf((1-alfa),df)  \n",
        "t = correlation / math.sqrt((1-correlation**2)/(n-2))\n",
        "print('t= ',t)\n",
        "correlation, p_value = stats.pearsonr(x, y)\n",
        "print('r/corr: ',correlation)\n",
        "if tail == 'left':\n",
        "  if t > tc:\n",
        "    print('terima h0')\n",
        "  else:\n",
        "    print('tolak h0')\n",
        "elif tail == 'two':\n",
        "  if t > tc_kiri and t < tc_kanan:\n",
        "    print('terima h0')\n",
        "  else:\n",
        "    print('tolak h0')\n",
        "elif tail == 'right':\n",
        "  if t < tc:\n",
        "    print('terima h0')\n",
        "  else:\n",
        "    print('tolak ho')"
      ],
      "metadata": {
        "colab": {
          "base_uri": "https://localhost:8080/"
        },
        "id": "yZdSKFz6OZ9V",
        "outputId": "106f8954-a983-45e9-c4b1-22efef466a83"
      },
      "execution_count": null,
      "outputs": [
        {
          "output_type": "stream",
          "name": "stdout",
          "text": [
            "state(boleh kosong): -\n",
            "alfa=0.05\n",
            "n:  10\n",
            "left/right/two: two\n",
            "Tc kiri=-2.306004135033371\n",
            "Tc kanan=2.3060041350333704\n",
            "r/corr:  0.8736336962866011\n",
            "t=  5.078276982065964\n",
            "tolak h0\n"
          ]
        }
      ]
    },
    {
      "cell_type": "markdown",
      "source": [
        "Regression Lines"
      ],
      "metadata": {
        "id": "V0iKEqFUUApa"
      }
    },
    {
      "cell_type": "code",
      "source": [
        "x = np.array([36,71,100,40,65,90,85])\n",
        "y = np.array([1782.5,380,450,525,750,900,1150])\n",
        "gradient, intercept, r_value, p_value, std_err = stats.linregress(x,y)\n",
        "mn=np.min(x)\n",
        "mx=np.max(x)\n",
        "x1=np.linspace(mn,mx,500)\n",
        "y1=gradient*x1+intercept\n",
        "print(\"gradient (m)\",gradient)\n",
        "print(\"intercept (b)\",intercept)\n",
        "plt.plot(x,y,'ob')\n",
        "plt.plot(x1,y1,'-r')\n",
        "\n",
        "avgX = statistics.mean(x)\n",
        "avgY = statistics.mean(y)\n",
        "print(f'X_bar: {avgX} Y_bar: {avgY}') #rata\" nya harusnya bertepatan dengan garis yg tercipta\n",
        "\n",
        "plt.show()\n",
        "# y1 = y topi\n",
        "# Latihan di halaman 513\n",
        "# gradient*angka+intercept , angkanya diketahui di soal\n",
        "print(\"prediksi: \",gradient*75+intercept)"
      ],
      "metadata": {
        "colab": {
          "base_uri": "https://localhost:8080/",
          "height": 338
        },
        "id": "tNZAfxxzDT5D",
        "outputId": "2c69194c-8b5f-4dad-9c62-2ca588f32413"
      },
      "execution_count": null,
      "outputs": [
        {
          "output_type": "stream",
          "name": "stdout",
          "text": [
            "gradient (m) -7.884805863708402\n",
            "intercept (b) 1396.7714936608559\n",
            "X_bar: 69 Y_bar: 848.2142857142857\n"
          ]
        },
        {
          "output_type": "display_data",
          "data": {
            "text/plain": [
              "<Figure size 432x288 with 1 Axes>"
            ],
            "image/png": "[encoded data removed]"
          },
          "metadata": {
            "needs_background": "light"
          }
        },
        {
          "output_type": "stream",
          "name": "stdout",
          "text": [
            "prediksi:  805.4110538827257\n"
          ]
        }
      ]
    },
    {
      "cell_type": "code",
      "source": [
        "x = np.array([36,71,100,40,65,90,85])\n",
        "y = np.array([1782.5,380,450,525,750,900,1150])\n",
        "x = np.array(x).reshape(-1,1)\n",
        "y = np.array(y).reshape(-1,1)\n",
        "lin_reg = LinearRegression()\n",
        "lin_reg.fit(x,y)\n",
        "print(lin_reg.coef_)\n",
        "print(lin_reg.intercept_)"
      ],
      "metadata": {
        "colab": {
          "base_uri": "https://localhost:8080/"
        },
        "id": "TPD_FH0GDUN_",
        "outputId": "04c5b81f-94d5-401c-9592-8f26219b555a"
      },
      "execution_count": null,
      "outputs": [
        {
          "output_type": "stream",
          "name": "stdout",
          "text": [
            "[[-7.88480586]]\n",
            "[1396.77149366]\n"
          ]
        }
      ]
    },
    {
      "cell_type": "markdown",
      "source": [
        "Finding the Standard Error of Estimate"
      ],
      "metadata": {
        "id": "M7eQ6FMCZKRi"
      }
    },
    {
      "cell_type": "code",
      "source": [
        "x = np.array([36,71,100,40,65,90,85])\n",
        "y = np.array([1782.5,380,450,525,750,900,1150])\n",
        "gradient, intercept, r_value, p_value, std_err = stats.linregress(x,y)\n",
        "mn=np.min(x)\n",
        "mx=np.max(x)\n",
        "x1=np.linspace(mn,mx,500)\n",
        "y1=gradient*x1+intercept\n",
        "print(\"gradient (m)\",gradient)\n",
        "print(\"intercept (b)\",intercept)\n",
        "y_topi = gradient * x + intercept \n",
        "y_minus_y_topi_sqr = (y-y_topi)**2\n",
        "\n",
        "print(\"unexplained variation: \",end=\"\")\n",
        "unexpl = sum(y_minus_y_topi_sqr)\n",
        "print(unexpl)\n",
        "\n",
        "n = len(x)\n",
        "se = math.sqrt(unexpl/(n-2))\n",
        "print(\"se: \",se)"
      ],
      "metadata": {
        "colab": {
          "base_uri": "https://localhost:8080/"
        },
        "id": "SePvwj3dIoYp",
        "outputId": "bbdb1c6e-50f2-41c7-ef46-3f5c0290ef36"
      },
      "execution_count": null,
      "outputs": [
        {
          "output_type": "stream",
          "name": "stdout",
          "text": [
            "gradient (m) -7.884805863708402\n",
            "intercept (b) 1396.7714936608559\n",
            "unexplained variation: 1234391.0818641048\n",
            "se:  496.868409513848\n"
          ]
        }
      ]
    },
    {
      "cell_type": "code",
      "source": [
        "# y topi\n",
        "y=-7.884805863708402*95 + 1396.7714936608559\n",
        "y"
      ],
      "metadata": {
        "colab": {
          "base_uri": "https://localhost:8080/"
        },
        "id": "0tEuN6jlFo8g",
        "outputId": "062f33cb-0c7d-4582-cc26-fd3b5613409e"
      },
      "execution_count": null,
      "outputs": [
        {
          "output_type": "execute_result",
          "data": {
            "text/plain": [
              "647.7149366085577"
            ]
          },
          "metadata": {},
          "execution_count": 7
        }
      ]
    },
    {
      "cell_type": "markdown",
      "source": [
        "Constructing a Prediction Interval"
      ],
      "metadata": {
        "id": "3J2jLXTlbwU7"
      }
    },
    {
      "cell_type": "code",
      "source": [
        "x = np.array([1.8,1.3,2.4,1.5,3.9,2.1,0.9,1.4,3.0,4.6])\n",
        "y = np.array([604.4,434.2,544.0,370.4,742.3,340.5,232.0,262.3,441.9,1157.7])\n",
        "n = len(x)\n",
        "df = n-2\n",
        "\n",
        "levConf = float(input(\"c= \"))\n",
        "alpha = 1-levConf\n",
        "tc = stats.t.ppf(1-(alpha/2),df)\n",
        "print(\"tc: \",tc)\n",
        "\n",
        "gradient, intercept, r_value, p_value, std_err = stats.linregress(x,y)\n",
        "mn=np.min(x)\n",
        "mx=np.max(x)\n",
        "x1=np.linspace(mn,mx,500)\n",
        "y1=gradient*x1+intercept\n",
        "print(\"gradient (m)\",gradient)\n",
        "print(\"intercept (b)\",intercept)\n",
        "y_topi = gradient * x + intercept \n",
        "y_minus_y_topi_sqr = (y-y_topi)**2\n",
        "\n",
        "print(\"unexplained variation: \",end=\"\")\n",
        "unexpl = sum(y_minus_y_topi_sqr)\n",
        "print(unexpl)\n",
        "\n",
        "n = len(x)\n",
        "se = math.sqrt(unexpl/(n-2))\n",
        "print(\"se: \",se)\n",
        "\n",
        "x_bar = statistics.mean(x)\n",
        "print(\"x bar: \",x_bar)\n",
        "\n",
        "x_sqr = x**2\n",
        "print(\"sum x_sqr: \",sum(x_sqr))\n",
        "\n",
        "x_sum = np.sum(x)\n",
        "print(\"x_sum: \",x_sum)\n",
        "\n",
        "x0 = float(input(\"x0: \"))\n",
        "atas = (n * ((x0 - x_bar)**2))\n",
        "bawah = ( ( n * (sum(x_sqr)) ) - ((x_sum)**2) )\n",
        "E = tc * se * math.sqrt( 1 + 1/n + (atas/bawah))\n",
        "\n",
        "print(\"E: \", E)\n",
        "print(f'y topi: {gradient*x0+intercept}')\n",
        "print(f'y topi - E: {gradient*x0+intercept-E} dan y topi + E: {gradient*x0+intercept+E}')"
      ],
      "metadata": {
        "colab": {
          "base_uri": "https://localhost:8080/"
        },
        "id": "9llwvKYeZQKu",
        "outputId": "3c15dda2-3195-47ae-db18-9b346ee14f96"
      },
      "execution_count": null,
      "outputs": [
        {
          "output_type": "stream",
          "name": "stdout",
          "text": [
            "c= 0.9\n",
            "tc:  1.8595480375228424\n",
            "gradient (m) 199.53460035251746\n",
            "intercept (b) 56.03576519273503\n",
            "unexplained variation: 161165.05462794082\n",
            "se:  141.93530860392914\n",
            "x bar:  2.29\n",
            "sum x_sqr:  65.49000000000001\n",
            "x_sum:  22.9\n",
            "x0: 2.8\n",
            "E:  279.31469455416266\n",
            "y topi: 614.7326461797838\n",
            "y topi - E: 335.4179516256212 dan y topi + E: 894.0473407339465\n"
          ]
        }
      ]
    },
    {
      "cell_type": "code",
      "source": [
        ""
      ],
      "metadata": {
        "id": "Gr8PhQDPeDER"
      },
      "execution_count": null,
      "outputs": []
    }
  ]
}